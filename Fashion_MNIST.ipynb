{
 "cells": [
  {
   "cell_type": "code",
   "execution_count": 26,
   "id": "dc60cd35-238d-4dfa-ab70-53ef0482c1c7",
   "metadata": {},
   "outputs": [],
   "source": [
    "import tensorflow as tf\n",
    "from tensorflow import keras\n",
    "import pandas as pd\n",
    "import matplotlib.pyplot as plt\n",
    "import numpy as np\n",
    "\n",
    "fashion_mnist = keras.datasets.fashion_mnist\n",
    "(X_train_full, y_train_full), (X_test, y_test) = fashion_mnist.load_data()\n",
    "\n",
    "# scalling the input features\n",
    "X_valid, X_train = X_train_full[:5000] / 255.0, X_train_full[5000:] / 255.0\n",
    "# creating validation set\n",
    "y_valid, y_train = y_train_full[:5000], y_train_full[5000:]\n",
    "\n",
    "class_names = [\"T-shirt/top\", \"Trouser\", \"Pullover\", \"Dress\", \"Coat\", \"Sandal\", \"Shirt\", \"Sneaker\", \"Bag\", \"Ankle boot\"]\n"
   ]
  },
  {
   "cell_type": "code",
   "execution_count": 27,
   "id": "57539549-7a30-47c1-847a-81c9f779c1f3",
   "metadata": {},
   "outputs": [
    {
     "data": {
      "text/html": [
       "<pre style=\"white-space:pre;overflow-x:auto;line-height:normal;font-family:Menlo,'DejaVu Sans Mono',consolas,'Courier New',monospace\"><span style=\"font-weight: bold\">Model: \"sequential_3\"</span>\n",
       "</pre>\n"
      ],
      "text/plain": [
       "\u001b[1mModel: \"sequential_3\"\u001b[0m\n"
      ]
     },
     "metadata": {},
     "output_type": "display_data"
    },
    {
     "data": {
      "text/html": [
       "<pre style=\"white-space:pre;overflow-x:auto;line-height:normal;font-family:Menlo,'DejaVu Sans Mono',consolas,'Courier New',monospace\">┏━━━━━━━━━━━━━━━━━━━━━━━━━━━━━━━━━┳━━━━━━━━━━━━━━━━━━━━━━━━┳━━━━━━━━━━━━━━━┓\n",
       "┃<span style=\"font-weight: bold\"> Layer (type)                    </span>┃<span style=\"font-weight: bold\"> Output Shape           </span>┃<span style=\"font-weight: bold\">       Param # </span>┃\n",
       "┡━━━━━━━━━━━━━━━━━━━━━━━━━━━━━━━━━╇━━━━━━━━━━━━━━━━━━━━━━━━╇━━━━━━━━━━━━━━━┩\n",
       "│ flatten_2 (<span style=\"color: #0087ff; text-decoration-color: #0087ff\">Flatten</span>)             │ (<span style=\"color: #00d7ff; text-decoration-color: #00d7ff\">None</span>, <span style=\"color: #00af00; text-decoration-color: #00af00\">784</span>)            │             <span style=\"color: #00af00; text-decoration-color: #00af00\">0</span> │\n",
       "├─────────────────────────────────┼────────────────────────┼───────────────┤\n",
       "│ dense_9 (<span style=\"color: #0087ff; text-decoration-color: #0087ff\">Dense</span>)                 │ (<span style=\"color: #00d7ff; text-decoration-color: #00d7ff\">None</span>, <span style=\"color: #00af00; text-decoration-color: #00af00\">300</span>)            │       <span style=\"color: #00af00; text-decoration-color: #00af00\">235,500</span> │\n",
       "├─────────────────────────────────┼────────────────────────┼───────────────┤\n",
       "│ dense_10 (<span style=\"color: #0087ff; text-decoration-color: #0087ff\">Dense</span>)                │ (<span style=\"color: #00d7ff; text-decoration-color: #00d7ff\">None</span>, <span style=\"color: #00af00; text-decoration-color: #00af00\">100</span>)            │        <span style=\"color: #00af00; text-decoration-color: #00af00\">30,100</span> │\n",
       "├─────────────────────────────────┼────────────────────────┼───────────────┤\n",
       "│ dense_11 (<span style=\"color: #0087ff; text-decoration-color: #0087ff\">Dense</span>)                │ (<span style=\"color: #00d7ff; text-decoration-color: #00d7ff\">None</span>, <span style=\"color: #00af00; text-decoration-color: #00af00\">10</span>)             │         <span style=\"color: #00af00; text-decoration-color: #00af00\">1,010</span> │\n",
       "└─────────────────────────────────┴────────────────────────┴───────────────┘\n",
       "</pre>\n"
      ],
      "text/plain": [
       "┏━━━━━━━━━━━━━━━━━━━━━━━━━━━━━━━━━┳━━━━━━━━━━━━━━━━━━━━━━━━┳━━━━━━━━━━━━━━━┓\n",
       "┃\u001b[1m \u001b[0m\u001b[1mLayer (type)                   \u001b[0m\u001b[1m \u001b[0m┃\u001b[1m \u001b[0m\u001b[1mOutput Shape          \u001b[0m\u001b[1m \u001b[0m┃\u001b[1m \u001b[0m\u001b[1m      Param #\u001b[0m\u001b[1m \u001b[0m┃\n",
       "┡━━━━━━━━━━━━━━━━━━━━━━━━━━━━━━━━━╇━━━━━━━━━━━━━━━━━━━━━━━━╇━━━━━━━━━━━━━━━┩\n",
       "│ flatten_2 (\u001b[38;5;33mFlatten\u001b[0m)             │ (\u001b[38;5;45mNone\u001b[0m, \u001b[38;5;34m784\u001b[0m)            │             \u001b[38;5;34m0\u001b[0m │\n",
       "├─────────────────────────────────┼────────────────────────┼───────────────┤\n",
       "│ dense_9 (\u001b[38;5;33mDense\u001b[0m)                 │ (\u001b[38;5;45mNone\u001b[0m, \u001b[38;5;34m300\u001b[0m)            │       \u001b[38;5;34m235,500\u001b[0m │\n",
       "├─────────────────────────────────┼────────────────────────┼───────────────┤\n",
       "│ dense_10 (\u001b[38;5;33mDense\u001b[0m)                │ (\u001b[38;5;45mNone\u001b[0m, \u001b[38;5;34m100\u001b[0m)            │        \u001b[38;5;34m30,100\u001b[0m │\n",
       "├─────────────────────────────────┼────────────────────────┼───────────────┤\n",
       "│ dense_11 (\u001b[38;5;33mDense\u001b[0m)                │ (\u001b[38;5;45mNone\u001b[0m, \u001b[38;5;34m10\u001b[0m)             │         \u001b[38;5;34m1,010\u001b[0m │\n",
       "└─────────────────────────────────┴────────────────────────┴───────────────┘\n"
      ]
     },
     "metadata": {},
     "output_type": "display_data"
    },
    {
     "data": {
      "text/html": [
       "<pre style=\"white-space:pre;overflow-x:auto;line-height:normal;font-family:Menlo,'DejaVu Sans Mono',consolas,'Courier New',monospace\"><span style=\"font-weight: bold\"> Total params: </span><span style=\"color: #00af00; text-decoration-color: #00af00\">266,610</span> (1.02 MB)\n",
       "</pre>\n"
      ],
      "text/plain": [
       "\u001b[1m Total params: \u001b[0m\u001b[38;5;34m266,610\u001b[0m (1.02 MB)\n"
      ]
     },
     "metadata": {},
     "output_type": "display_data"
    },
    {
     "data": {
      "text/html": [
       "<pre style=\"white-space:pre;overflow-x:auto;line-height:normal;font-family:Menlo,'DejaVu Sans Mono',consolas,'Courier New',monospace\"><span style=\"font-weight: bold\"> Trainable params: </span><span style=\"color: #00af00; text-decoration-color: #00af00\">266,610</span> (1.02 MB)\n",
       "</pre>\n"
      ],
      "text/plain": [
       "\u001b[1m Trainable params: \u001b[0m\u001b[38;5;34m266,610\u001b[0m (1.02 MB)\n"
      ]
     },
     "metadata": {},
     "output_type": "display_data"
    },
    {
     "data": {
      "text/html": [
       "<pre style=\"white-space:pre;overflow-x:auto;line-height:normal;font-family:Menlo,'DejaVu Sans Mono',consolas,'Courier New',monospace\"><span style=\"font-weight: bold\"> Non-trainable params: </span><span style=\"color: #00af00; text-decoration-color: #00af00\">0</span> (0.00 B)\n",
       "</pre>\n"
      ],
      "text/plain": [
       "\u001b[1m Non-trainable params: \u001b[0m\u001b[38;5;34m0\u001b[0m (0.00 B)\n"
      ]
     },
     "metadata": {},
     "output_type": "display_data"
    }
   ],
   "source": [
    "# creating the model\n",
    "model = keras.models.Sequential([\n",
    "    keras.Input(shape=(28, 28)),\n",
    "    keras.layers.Flatten(),\n",
    "    keras.layers.Dense(300, activation=\"relu\"),\n",
    "    keras.layers.Dense(100, activation=\"relu\"),\n",
    "    keras.layers.Dense(10, activation=\"softmax\")\n",
    "])\n",
    "model.summary()\n"
   ]
  },
  {
   "cell_type": "code",
   "execution_count": 28,
   "id": "d4e02d11-553f-4d0f-8e81-a40fc742fe40",
   "metadata": {},
   "outputs": [],
   "source": [
    "# compiling the model\n",
    "model.compile(loss=\"sparse_categorical_crossentropy\",\n",
    " optimizer=\"sgd\",\n",
    " metrics=[\"accuracy\"])"
   ]
  },
  {
   "cell_type": "code",
   "execution_count": 29,
   "id": "69d84e5c-2302-431b-aab6-ea636e912bdd",
   "metadata": {},
   "outputs": [
    {
     "name": "stdout",
     "output_type": "stream",
     "text": [
      "Epoch 1/30\n"
     ]
    },
    {
     "name": "stderr",
     "output_type": "stream",
     "text": [
      "2025-08-16 21:27:37.966311: W external/local_xla/xla/tsl/framework/cpu_allocator_impl.cc:84] Allocation of 172480000 exceeds 10% of free system memory.\n"
     ]
    },
    {
     "name": "stdout",
     "output_type": "stream",
     "text": [
      "\u001b[1m1719/1719\u001b[0m \u001b[32m━━━━━━━━━━━━━━━━━━━━\u001b[0m\u001b[37m\u001b[0m \u001b[1m8s\u001b[0m 4ms/step - accuracy: 0.7616 - loss: 0.7174 - val_accuracy: 0.8260 - val_loss: 0.5222\n",
      "Epoch 2/30\n",
      "\u001b[1m1719/1719\u001b[0m \u001b[32m━━━━━━━━━━━━━━━━━━━━\u001b[0m\u001b[37m\u001b[0m \u001b[1m6s\u001b[0m 3ms/step - accuracy: 0.8282 - loss: 0.4895 - val_accuracy: 0.8332 - val_loss: 0.4825\n",
      "Epoch 3/30\n",
      "\u001b[1m1719/1719\u001b[0m \u001b[32m━━━━━━━━━━━━━━━━━━━━\u001b[0m\u001b[37m\u001b[0m \u001b[1m10s\u001b[0m 3ms/step - accuracy: 0.8438 - loss: 0.4441 - val_accuracy: 0.8562 - val_loss: 0.4169\n",
      "Epoch 4/30\n",
      "\u001b[1m1719/1719\u001b[0m \u001b[32m━━━━━━━━━━━━━━━━━━━━\u001b[0m\u001b[37m\u001b[0m \u001b[1m5s\u001b[0m 3ms/step - accuracy: 0.8543 - loss: 0.4160 - val_accuracy: 0.8656 - val_loss: 0.3952\n",
      "Epoch 5/30\n",
      "\u001b[1m1719/1719\u001b[0m \u001b[32m━━━━━━━━━━━━━━━━━━━━\u001b[0m\u001b[37m\u001b[0m \u001b[1m10s\u001b[0m 3ms/step - accuracy: 0.8612 - loss: 0.3964 - val_accuracy: 0.8674 - val_loss: 0.3851\n",
      "Epoch 6/30\n",
      "\u001b[1m1719/1719\u001b[0m \u001b[32m━━━━━━━━━━━━━━━━━━━━\u001b[0m\u001b[37m\u001b[0m \u001b[1m5s\u001b[0m 3ms/step - accuracy: 0.8668 - loss: 0.3800 - val_accuracy: 0.8710 - val_loss: 0.3754\n",
      "Epoch 7/30\n",
      "\u001b[1m1719/1719\u001b[0m \u001b[32m━━━━━━━━━━━━━━━━━━━━\u001b[0m\u001b[37m\u001b[0m \u001b[1m5s\u001b[0m 3ms/step - accuracy: 0.8707 - loss: 0.3660 - val_accuracy: 0.8734 - val_loss: 0.3651\n",
      "Epoch 8/30\n",
      "\u001b[1m1719/1719\u001b[0m \u001b[32m━━━━━━━━━━━━━━━━━━━━\u001b[0m\u001b[37m\u001b[0m \u001b[1m10s\u001b[0m 3ms/step - accuracy: 0.8747 - loss: 0.3560 - val_accuracy: 0.8702 - val_loss: 0.3670\n",
      "Epoch 9/30\n",
      "\u001b[1m1719/1719\u001b[0m \u001b[32m━━━━━━━━━━━━━━━━━━━━\u001b[0m\u001b[37m\u001b[0m \u001b[1m5s\u001b[0m 3ms/step - accuracy: 0.8777 - loss: 0.3442 - val_accuracy: 0.8742 - val_loss: 0.3661\n",
      "Epoch 10/30\n",
      "\u001b[1m1719/1719\u001b[0m \u001b[32m━━━━━━━━━━━━━━━━━━━━\u001b[0m\u001b[37m\u001b[0m \u001b[1m5s\u001b[0m 3ms/step - accuracy: 0.8819 - loss: 0.3347 - val_accuracy: 0.8734 - val_loss: 0.3575\n",
      "Epoch 11/30\n",
      "\u001b[1m1719/1719\u001b[0m \u001b[32m━━━━━━━━━━━━━━━━━━━━\u001b[0m\u001b[37m\u001b[0m \u001b[1m5s\u001b[0m 3ms/step - accuracy: 0.8848 - loss: 0.3261 - val_accuracy: 0.8770 - val_loss: 0.3473\n",
      "Epoch 12/30\n",
      "\u001b[1m1719/1719\u001b[0m \u001b[32m━━━━━━━━━━━━━━━━━━━━\u001b[0m\u001b[37m\u001b[0m \u001b[1m5s\u001b[0m 3ms/step - accuracy: 0.8875 - loss: 0.3178 - val_accuracy: 0.8780 - val_loss: 0.3434\n",
      "Epoch 13/30\n",
      "\u001b[1m1719/1719\u001b[0m \u001b[32m━━━━━━━━━━━━━━━━━━━━\u001b[0m\u001b[37m\u001b[0m \u001b[1m6s\u001b[0m 3ms/step - accuracy: 0.8887 - loss: 0.3115 - val_accuracy: 0.8778 - val_loss: 0.3336\n",
      "Epoch 14/30\n",
      "\u001b[1m1719/1719\u001b[0m \u001b[32m━━━━━━━━━━━━━━━━━━━━\u001b[0m\u001b[37m\u001b[0m \u001b[1m6s\u001b[0m 3ms/step - accuracy: 0.8912 - loss: 0.3042 - val_accuracy: 0.8808 - val_loss: 0.3370\n",
      "Epoch 15/30\n",
      "\u001b[1m1719/1719\u001b[0m \u001b[32m━━━━━━━━━━━━━━━━━━━━\u001b[0m\u001b[37m\u001b[0m \u001b[1m6s\u001b[0m 3ms/step - accuracy: 0.8931 - loss: 0.2975 - val_accuracy: 0.8816 - val_loss: 0.3348\n",
      "Epoch 16/30\n",
      "\u001b[1m1719/1719\u001b[0m \u001b[32m━━━━━━━━━━━━━━━━━━━━\u001b[0m\u001b[37m\u001b[0m \u001b[1m5s\u001b[0m 3ms/step - accuracy: 0.8957 - loss: 0.2904 - val_accuracy: 0.8816 - val_loss: 0.3317\n",
      "Epoch 17/30\n",
      "\u001b[1m1719/1719\u001b[0m \u001b[32m━━━━━━━━━━━━━━━━━━━━\u001b[0m\u001b[37m\u001b[0m \u001b[1m5s\u001b[0m 3ms/step - accuracy: 0.8981 - loss: 0.2854 - val_accuracy: 0.8836 - val_loss: 0.3227\n",
      "Epoch 18/30\n",
      "\u001b[1m1719/1719\u001b[0m \u001b[32m━━━━━━━━━━━━━━━━━━━━\u001b[0m\u001b[37m\u001b[0m \u001b[1m5s\u001b[0m 3ms/step - accuracy: 0.8997 - loss: 0.2797 - val_accuracy: 0.8828 - val_loss: 0.3225\n",
      "Epoch 19/30\n",
      "\u001b[1m1719/1719\u001b[0m \u001b[32m━━━━━━━━━━━━━━━━━━━━\u001b[0m\u001b[37m\u001b[0m \u001b[1m5s\u001b[0m 3ms/step - accuracy: 0.9017 - loss: 0.2733 - val_accuracy: 0.8882 - val_loss: 0.3191\n",
      "Epoch 20/30\n",
      "\u001b[1m1719/1719\u001b[0m \u001b[32m━━━━━━━━━━━━━━━━━━━━\u001b[0m\u001b[37m\u001b[0m \u001b[1m6s\u001b[0m 3ms/step - accuracy: 0.9037 - loss: 0.2686 - val_accuracy: 0.8878 - val_loss: 0.3209\n",
      "Epoch 21/30\n",
      "\u001b[1m1719/1719\u001b[0m \u001b[32m━━━━━━━━━━━━━━━━━━━━\u001b[0m\u001b[37m\u001b[0m \u001b[1m5s\u001b[0m 3ms/step - accuracy: 0.9047 - loss: 0.2639 - val_accuracy: 0.8890 - val_loss: 0.3151\n",
      "Epoch 22/30\n",
      "\u001b[1m1719/1719\u001b[0m \u001b[32m━━━━━━━━━━━━━━━━━━━━\u001b[0m\u001b[37m\u001b[0m \u001b[1m5s\u001b[0m 3ms/step - accuracy: 0.9080 - loss: 0.2588 - val_accuracy: 0.8894 - val_loss: 0.3107\n",
      "Epoch 23/30\n",
      "\u001b[1m1719/1719\u001b[0m \u001b[32m━━━━━━━━━━━━━━━━━━━━\u001b[0m\u001b[37m\u001b[0m \u001b[1m6s\u001b[0m 3ms/step - accuracy: 0.9085 - loss: 0.2544 - val_accuracy: 0.8940 - val_loss: 0.3069\n",
      "Epoch 24/30\n",
      "\u001b[1m1719/1719\u001b[0m \u001b[32m━━━━━━━━━━━━━━━━━━━━\u001b[0m\u001b[37m\u001b[0m \u001b[1m5s\u001b[0m 3ms/step - accuracy: 0.9108 - loss: 0.2495 - val_accuracy: 0.8938 - val_loss: 0.3095\n",
      "Epoch 25/30\n",
      "\u001b[1m1719/1719\u001b[0m \u001b[32m━━━━━━━━━━━━━━━━━━━━\u001b[0m\u001b[37m\u001b[0m \u001b[1m6s\u001b[0m 3ms/step - accuracy: 0.9118 - loss: 0.2449 - val_accuracy: 0.8860 - val_loss: 0.3225\n",
      "Epoch 26/30\n",
      "\u001b[1m1719/1719\u001b[0m \u001b[32m━━━━━━━━━━━━━━━━━━━━\u001b[0m\u001b[37m\u001b[0m \u001b[1m6s\u001b[0m 3ms/step - accuracy: 0.9147 - loss: 0.2413 - val_accuracy: 0.8920 - val_loss: 0.3090\n",
      "Epoch 27/30\n",
      "\u001b[1m1719/1719\u001b[0m \u001b[32m━━━━━━━━━━━━━━━━━━━━\u001b[0m\u001b[37m\u001b[0m \u001b[1m6s\u001b[0m 3ms/step - accuracy: 0.9155 - loss: 0.2373 - val_accuracy: 0.8938 - val_loss: 0.2983\n",
      "Epoch 28/30\n",
      "\u001b[1m1719/1719\u001b[0m \u001b[32m━━━━━━━━━━━━━━━━━━━━\u001b[0m\u001b[37m\u001b[0m \u001b[1m6s\u001b[0m 3ms/step - accuracy: 0.9173 - loss: 0.2328 - val_accuracy: 0.8910 - val_loss: 0.3098\n",
      "Epoch 29/30\n",
      "\u001b[1m1719/1719\u001b[0m \u001b[32m━━━━━━━━━━━━━━━━━━━━\u001b[0m\u001b[37m\u001b[0m \u001b[1m6s\u001b[0m 3ms/step - accuracy: 0.9177 - loss: 0.2303 - val_accuracy: 0.8904 - val_loss: 0.3083\n",
      "Epoch 30/30\n",
      "\u001b[1m1719/1719\u001b[0m \u001b[32m━━━━━━━━━━━━━━━━━━━━\u001b[0m\u001b[37m\u001b[0m \u001b[1m6s\u001b[0m 3ms/step - accuracy: 0.9188 - loss: 0.2258 - val_accuracy: 0.8968 - val_loss: 0.2934\n"
     ]
    },
    {
     "data": {
      "image/png": "[encoded data removed]",
      "text/plain": [
       "<Figure size 800x500 with 1 Axes>"
      ]
     },
     "metadata": {},
     "output_type": "display_data"
    }
   ],
   "source": [
    "# training the model\n",
    "history = model.fit(X_train, y_train, epochs=30, validation_data=(X_valid, y_valid))\n",
    "\n",
    "# viewing the results\n",
    "pd.DataFrame(history.history).plot(figsize=(8, 5))\n",
    "plt.grid(True)\n",
    "plt.gca().set_ylim(0, 1) # set the vertical range to [0-1]\n",
    "plt.show()"
   ]
  },
  {
   "cell_type": "code",
   "execution_count": 30,
   "id": "2fcce611-17ff-4a3e-ad3a-f1cc39e66b93",
   "metadata": {},
   "outputs": [
    {
     "name": "stdout",
     "output_type": "stream",
     "text": [
      "\u001b[1m313/313\u001b[0m \u001b[32m━━━━━━━━━━━━━━━━━━━━\u001b[0m\u001b[37m\u001b[0m \u001b[1m1s\u001b[0m 2ms/step - accuracy: 0.8439 - loss: 64.5731\n"
     ]
    },
    {
     "data": {
      "text/plain": [
       "[64.57312774658203, 0.8439000248908997]"
      ]
     },
     "execution_count": 30,
     "metadata": {},
     "output_type": "execute_result"
    }
   ],
   "source": [
    "# avaliation with test set\n",
    "model.evaluate(X_test, y_test)"
   ]
  },
  {
   "cell_type": "code",
   "execution_count": 32,
   "id": "07de4444-8117-42ef-9dd2-83db0b5c6dcb",
   "metadata": {},
   "outputs": [
    {
     "name": "stdout",
     "output_type": "stream",
     "text": [
      "\u001b[1m1/1\u001b[0m \u001b[32m━━━━━━━━━━━━━━━━━━━━\u001b[0m\u001b[37m\u001b[0m \u001b[1m0s\u001b[0m 73ms/step\n",
      "--- Predições e Rótulos Corretos ---\n",
      "\n",
      "Instância 1:\n",
      "  Probabilidades Estimadas (arredondadas): [0. 0. 0. 0. 0. 0. 0. 0. 0. 1.]\n",
      "  Classe Predita: 9\n",
      "  Rótulo Verdadeiro: 9\n",
      "  -> Previsão CORRETA!\n",
      "\n",
      "Instância 2:\n",
      "  Probabilidades Estimadas (arredondadas): [0. 0. 1. 0. 0. 0. 0. 0. 0. 0.]\n",
      "  Classe Predita: 2\n",
      "  Rótulo Verdadeiro: 2\n",
      "  -> Previsão CORRETA!\n",
      "\n",
      "Instância 3:\n",
      "  Probabilidades Estimadas (arredondadas): [0. 1. 0. 0. 0. 0. 0. 0. 0. 0.]\n",
      "  Classe Predita: 1\n",
      "  Rótulo Verdadeiro: 1\n",
      "  -> Previsão CORRETA!\n",
      "\n",
      "Instância 4:\n",
      "  Probabilidades Estimadas (arredondadas): [0. 1. 0. 0. 0. 0. 0. 0. 0. 0.]\n",
      "  Classe Predita: 1\n",
      "  Rótulo Verdadeiro: 1\n",
      "  -> Previsão CORRETA!\n",
      "\n",
      "Instância 5:\n",
      "  Probabilidades Estimadas (arredondadas): [0. 0. 0. 0. 0. 0. 1. 0. 0. 0.]\n",
      "  Classe Predita: 6\n",
      "  Rótulo Verdadeiro: 6\n",
      "  -> Previsão CORRETA!\n",
      "\n",
      "Instância 6:\n",
      "  Probabilidades Estimadas (arredondadas): [0. 1. 0. 0. 0. 0. 0. 0. 0. 0.]\n",
      "  Classe Predita: 1\n",
      "  Rótulo Verdadeiro: 1\n",
      "  -> Previsão CORRETA!\n",
      "\n",
      "Instância 7:\n",
      "  Probabilidades Estimadas (arredondadas): [0. 0. 0. 0. 1. 0. 0. 0. 0. 0.]\n",
      "  Classe Predita: 4\n",
      "  Rótulo Verdadeiro: 4\n",
      "  -> Previsão CORRETA!\n",
      "\n",
      "Instância 8:\n",
      "  Probabilidades Estimadas (arredondadas): [0. 0. 0. 0. 0. 0. 1. 0. 0. 0.]\n",
      "  Classe Predita: 6\n",
      "  Rótulo Verdadeiro: 6\n",
      "  -> Previsão CORRETA!\n",
      "\n",
      "Instância 9:\n",
      "  Probabilidades Estimadas (arredondadas): [0. 0. 0. 0. 0. 1. 0. 0. 0. 0.]\n",
      "  Classe Predita: 5\n",
      "  Rótulo Verdadeiro: 5\n",
      "  -> Previsão CORRETA!\n",
      "\n",
      "Instância 10:\n",
      "  Probabilidades Estimadas (arredondadas): [0. 0. 0. 0. 0. 0. 0. 1. 0. 0.]\n",
      "  Classe Predita: 7\n",
      "  Rótulo Verdadeiro: 7\n",
      "  -> Previsão CORRETA!\n",
      "\n",
      "Instância 11:\n",
      "  Probabilidades Estimadas (arredondadas): [0. 0. 0. 0. 1. 0. 0. 0. 0. 0.]\n",
      "  Classe Predita: 4\n",
      "  Rótulo Verdadeiro: 4\n",
      "  -> Previsão CORRETA!\n",
      "\n",
      "Instância 12:\n",
      "  Probabilidades Estimadas (arredondadas): [0. 0. 0. 0. 0. 1. 0. 0. 0. 0.]\n",
      "  Classe Predita: 5\n",
      "  Rótulo Verdadeiro: 5\n",
      "  -> Previsão CORRETA!\n",
      "\n",
      "Instância 13:\n",
      "  Probabilidades Estimadas (arredondadas): [0. 0. 0. 0. 0. 0. 0. 0. 1. 0.]\n",
      "  Classe Predita: 8\n",
      "  Rótulo Verdadeiro: 7\n",
      "  -> Previsão INCORRETA.\n",
      "\n",
      "Instância 14:\n",
      "  Probabilidades Estimadas (arredondadas): [0. 0. 0. 1. 0. 0. 0. 0. 0. 0.]\n",
      "  Classe Predita: 3\n",
      "  Rótulo Verdadeiro: 3\n",
      "  -> Previsão CORRETA!\n",
      "\n",
      "Instância 15:\n",
      "  Probabilidades Estimadas (arredondadas): [0. 0. 0. 0. 1. 0. 0. 0. 0. 0.]\n",
      "  Classe Predita: 4\n",
      "  Rótulo Verdadeiro: 4\n",
      "  -> Previsão CORRETA!\n",
      "\n",
      "Instância 16:\n",
      "  Probabilidades Estimadas (arredondadas): [0. 1. 0. 0. 0. 0. 0. 0. 0. 0.]\n",
      "  Classe Predita: 1\n",
      "  Rótulo Verdadeiro: 1\n",
      "  -> Previsão CORRETA!\n",
      "\n",
      "Instância 17:\n",
      "  Probabilidades Estimadas (arredondadas): [0. 0. 1. 0. 0. 0. 0. 0. 0. 0.]\n",
      "  Classe Predita: 2\n",
      "  Rótulo Verdadeiro: 2\n",
      "  -> Previsão CORRETA!\n",
      "\n",
      "Instância 18:\n",
      "  Probabilidades Estimadas (arredondadas): [0. 0. 0. 0. 1. 0. 0. 0. 0. 0.]\n",
      "  Classe Predita: 4\n",
      "  Rótulo Verdadeiro: 4\n",
      "  -> Previsão CORRETA!\n",
      "\n",
      "Instância 19:\n",
      "  Probabilidades Estimadas (arredondadas): [0. 0. 0. 0. 0. 0. 0. 0. 1. 0.]\n",
      "  Classe Predita: 8\n",
      "  Rótulo Verdadeiro: 8\n",
      "  -> Previsão CORRETA!\n",
      "\n",
      "Instância 20:\n",
      "  Probabilidades Estimadas (arredondadas): [1. 0. 0. 0. 0. 0. 0. 0. 0. 0.]\n",
      "  Classe Predita: 0\n",
      "  Rótulo Verdadeiro: 0\n",
      "  -> Previsão CORRETA!\n",
      "\n",
      "Instância 21:\n",
      "  Probabilidades Estimadas (arredondadas): [0. 0. 1. 0. 0. 0. 0. 0. 0. 0.]\n",
      "  Classe Predita: 2\n",
      "  Rótulo Verdadeiro: 2\n",
      "  -> Previsão CORRETA!\n",
      "\n",
      "Instância 22:\n",
      "  Probabilidades Estimadas (arredondadas): [0. 0. 0. 0. 0. 1. 0. 0. 0. 0.]\n",
      "  Classe Predita: 5\n",
      "  Rótulo Verdadeiro: 5\n",
      "  -> Previsão CORRETA!\n",
      "\n",
      "Instância 23:\n",
      "  Probabilidades Estimadas (arredondadas): [0. 0. 0. 0. 0. 0. 0. 1. 0. 0.]\n",
      "  Classe Predita: 7\n",
      "  Rótulo Verdadeiro: 7\n",
      "  -> Previsão CORRETA!\n",
      "\n",
      "Instância 24:\n",
      "  Probabilidades Estimadas (arredondadas): [0. 0. 0. 0. 0. 1. 0. 0. 0. 0.]\n",
      "  Classe Predita: 5\n",
      "  Rótulo Verdadeiro: 9\n",
      "  -> Previsão INCORRETA.\n",
      "\n",
      "Instância 25:\n",
      "  Probabilidades Estimadas (arredondadas): [0. 1. 0. 0. 0. 0. 0. 0. 0. 0.]\n",
      "  Classe Predita: 1\n",
      "  Rótulo Verdadeiro: 1\n",
      "  -> Previsão CORRETA!\n",
      "\n",
      "Instância 26:\n",
      "  Probabilidades Estimadas (arredondadas): [0. 0. 0. 0. 1. 0. 0. 0. 0. 0.]\n",
      "  Classe Predita: 4\n",
      "  Rótulo Verdadeiro: 4\n",
      "  -> Previsão CORRETA!\n",
      "\n",
      "Instância 27:\n",
      "  Probabilidades Estimadas (arredondadas): [0. 0. 0. 0. 1. 0. 0. 0. 0. 0.]\n",
      "  Classe Predita: 4\n",
      "  Rótulo Verdadeiro: 6\n",
      "  -> Previsão INCORRETA.\n",
      "\n",
      "Instância 28:\n",
      "  Probabilidades Estimadas (arredondadas): [1. 0. 0. 0. 0. 0. 0. 0. 0. 0.]\n",
      "  Classe Predita: 0\n",
      "  Rótulo Verdadeiro: 0\n",
      "  -> Previsão CORRETA!\n",
      "\n",
      "Instância 29:\n",
      "  Probabilidades Estimadas (arredondadas): [0. 0. 0. 0. 0. 0. 0. 0. 0. 1.]\n",
      "  Classe Predita: 9\n",
      "  Rótulo Verdadeiro: 9\n",
      "  -> Previsão CORRETA!\n",
      "\n",
      "Instância 30:\n",
      "  Probabilidades Estimadas (arredondadas): [0. 0. 0. 0. 1. 0. 0. 0. 0. 0.]\n",
      "  Classe Predita: 4\n",
      "  Rótulo Verdadeiro: 3\n",
      "  -> Previsão INCORRETA.\n"
     ]
    }
   ],
   "source": [
    "# making prediction on test set\n",
    "\n",
    "X_new = X_test[:30]\n",
    "y_proba = model.predict(X_new)\n",
    "y_new = y_test[:30]\n",
    "\n",
    "# as classes preditas\n",
    "y_pred_classes = np.argmax(y_proba, axis=1) # [1, 3, 4]\n",
    "\n",
    "print(\"--- Predições e Rótulos Corretos ---\")\n",
    "for i in range(len(X_new)):\n",
    "    print(f\"\\nInstância {i+1}:\")\n",
    "    print(f\"  Probabilidades Estimadas (arredondadas): {y_proba[i].round(2)}\") # [12, 13]\n",
    "    print(f\"  Classe Predita: {y_pred_classes[i]}\") # [1]\n",
    "    print(f\"  Rótulo Verdadeiro: {y_new[i]}\") # [1]\n",
    "    if y_pred_classes[i] == y_new[i]:\n",
    "        print(\"  -> Previsão CORRETA!\")\n",
    "    else:\n",
    "        print(\"  -> Previsão INCORRETA.\")"
   ]
  },
  {
   "cell_type": "code",
   "execution_count": null,
   "id": "3ca75ea9-8990-4f40-ae84-55ae9b40416f",
   "metadata": {},
   "outputs": [],
   "source": []
  }
 ],
 "metadata": {
  "kernelspec": {
   "display_name": "Python 3 (ipykernel)",
   "language": "python",
   "name": "python3"
  },
  "language_info": {
   "codemirror_mode": {
    "name": "ipython",
    "version": 3
   },
   "file_extension": ".py",
   "mimetype": "text/x-python",
   "name": "python",
   "nbconvert_exporter": "python",
   "pygments_lexer": "ipython3",
   "version": "3.12.3"
  }
 },
 "nbformat": 4,
 "nbformat_minor": 5
}
